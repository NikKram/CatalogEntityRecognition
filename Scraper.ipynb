{
 "cells": [
  {
   "cell_type": "code",
   "execution_count": 1,
   "metadata": {},
   "outputs": [],
   "source": [
    "from selenium import webdriver \n",
    "import time\n",
    "from tqdm import tqdm"
   ]
  },
  {
   "cell_type": "code",
   "execution_count": 2,
   "metadata": {},
   "outputs": [],
   "source": [
    "common_search_string = \"undergraduate catalog filetype:pdf\""
   ]
  },
  {
   "cell_type": "code",
   "execution_count": 3,
   "metadata": {
    "scrolled": true
   },
   "outputs": [],
   "source": [
    "search_string_list = []\n",
    "file1 = open('Universities.txt', 'r')\n",
    "Lines = file1.readlines()\n",
    "\n",
    "for line in Lines:\n",
    "    search = line[:-1].replace('&amp;', '%26') + ' ' + common_search_string\n",
    "    search_string_list.append(search)"
   ]
  },
  {
   "cell_type": "code",
   "execution_count": 4,
   "metadata": {},
   "outputs": [
    {
     "data": {
      "text/plain": [
       "1770"
      ]
     },
     "execution_count": 4,
     "metadata": {},
     "output_type": "execute_result"
    }
   ],
   "source": [
    "len(search_string_list)"
   ]
  },
  {
   "cell_type": "code",
   "execution_count": 5,
   "metadata": {},
   "outputs": [
    {
     "data": {
      "text/plain": [
       "'Boise State University undergraduate catalog filetype:pdf'"
      ]
     },
     "execution_count": 5,
     "metadata": {},
     "output_type": "execute_result"
    }
   ],
   "source": [
    "search_string_list[154]"
   ]
  },
  {
   "cell_type": "code",
   "execution_count": 6,
   "metadata": {},
   "outputs": [
    {
     "data": {
      "text/plain": [
       "['A.T. Still University undergraduate catalog filetype:pdf',\n",
       " 'Abilene Christian University undergraduate catalog filetype:pdf',\n",
       " 'Abraham Baldwin Agricultural College undergraduate catalog filetype:pdf',\n",
       " 'Academy of Art University undergraduate catalog filetype:pdf',\n",
       " 'Adams State University undergraduate catalog filetype:pdf',\n",
       " 'Adelphi University undergraduate catalog filetype:pdf',\n",
       " 'Adler Graduate School undergraduate catalog filetype:pdf',\n",
       " 'Adler University undergraduate catalog filetype:pdf',\n",
       " 'Adrian College undergraduate catalog filetype:pdf',\n",
       " 'AdventHealth University undergraduate catalog filetype:pdf',\n",
       " 'Agnes Scott College undergraduate catalog filetype:pdf',\n",
       " 'Air Force Institute of Technology undergraduate catalog filetype:pdf',\n",
       " 'Alabama A%26M University undergraduate catalog filetype:pdf',\n",
       " 'Alabama State University undergraduate catalog filetype:pdf',\n",
       " 'Alaska Bible College undergraduate catalog filetype:pdf',\n",
       " 'Alaska Pacific University undergraduate catalog filetype:pdf',\n",
       " 'Albany College of Pharmacy and Health Sciences undergraduate catalog filetype:pdf',\n",
       " 'Albany Law School undergraduate catalog filetype:pdf',\n",
       " 'Albany Medical College undergraduate catalog filetype:pdf',\n",
       " 'Albany State University undergraduate catalog filetype:pdf',\n",
       " 'Albertus Magnus College undergraduate catalog filetype:pdf',\n",
       " 'Albion College undergraduate catalog filetype:pdf',\n",
       " 'Albright College undergraduate catalog filetype:pdf',\n",
       " 'Alcorn State University undergraduate catalog filetype:pdf',\n",
       " 'Alderson Broaddus University undergraduate catalog filetype:pdf',\n",
       " 'Alfred State College undergraduate catalog filetype:pdf',\n",
       " 'Alfred University undergraduate catalog filetype:pdf',\n",
       " 'Alice Lloyd College undergraduate catalog filetype:pdf',\n",
       " 'Allegheny College undergraduate catalog filetype:pdf',\n",
       " 'Allen College undergraduate catalog filetype:pdf',\n",
       " 'Allen University undergraduate catalog filetype:pdf',\n",
       " 'Alliant International University undergraduate catalog filetype:pdf',\n",
       " 'Alma College undergraduate catalog filetype:pdf',\n",
       " 'Alvernia University undergraduate catalog filetype:pdf',\n",
       " 'Alverno College undergraduate catalog filetype:pdf',\n",
       " 'Amberton University undergraduate catalog filetype:pdf',\n",
       " 'American Baptist College undergraduate catalog filetype:pdf',\n",
       " 'American Film Institute Conservatory undergraduate catalog filetype:pdf',\n",
       " 'American International College undergraduate catalog filetype:pdf',\n",
       " 'American Jewish University undergraduate catalog filetype:pdf',\n",
       " 'American University undergraduate catalog filetype:pdf',\n",
       " 'Amherst College undergraduate catalog filetype:pdf',\n",
       " 'Anderson University undergraduate catalog filetype:pdf',\n",
       " 'Anderson University, Indiana undergraduate catalog filetype:pdf',\n",
       " 'Andrews University undergraduate catalog filetype:pdf',\n",
       " 'Angelo State University undergraduate catalog filetype:pdf',\n",
       " 'Anna Maria College undergraduate catalog filetype:pdf',\n",
       " 'Antioch University undergraduate catalog filetype:pdf',\n",
       " 'Antioch University Los Angeles undergraduate catalog filetype:pdf',\n",
       " 'Antioch University New England undergraduate catalog filetype:pdf',\n",
       " 'Antioch University Santa Barbara undergraduate catalog filetype:pdf',\n",
       " 'Antioch University Seattle undergraduate catalog filetype:pdf',\n",
       " 'Appalachian Bible College undergraduate catalog filetype:pdf',\n",
       " 'Appalachian College of Pharmacy undergraduate catalog filetype:pdf',\n",
       " 'Appalachian State University undergraduate catalog filetype:pdf',\n",
       " 'Aquinas College undergraduate catalog filetype:pdf',\n",
       " 'Aquinas College, Tennessee undergraduate catalog filetype:pdf',\n",
       " 'Arcadia University undergraduate catalog filetype:pdf',\n",
       " 'Arizona Christian University undergraduate catalog filetype:pdf',\n",
       " 'Arizona State University undergraduate catalog filetype:pdf',\n",
       " 'Arkansas Baptist College undergraduate catalog filetype:pdf',\n",
       " 'Arkansas State University undergraduate catalog filetype:pdf',\n",
       " 'Arkansas Tech University undergraduate catalog filetype:pdf',\n",
       " 'Arlington Baptist University undergraduate catalog filetype:pdf',\n",
       " 'Art Academy of Cincinnati undergraduate catalog filetype:pdf',\n",
       " 'ArtCenter College of Design undergraduate catalog filetype:pdf',\n",
       " 'Asbury University undergraduate catalog filetype:pdf',\n",
       " 'Ashland University undergraduate catalog filetype:pdf',\n",
       " 'Assumption College undergraduate catalog filetype:pdf',\n",
       " 'Athens State University undergraduate catalog filetype:pdf',\n",
       " 'Atlanta Metropolitan State College undergraduate catalog filetype:pdf',\n",
       " 'Auburn University undergraduate catalog filetype:pdf',\n",
       " 'Auburn University at Montgomery undergraduate catalog filetype:pdf',\n",
       " 'Augsburg University undergraduate catalog filetype:pdf',\n",
       " 'Augusta University undergraduate catalog filetype:pdf',\n",
       " 'Augustana College undergraduate catalog filetype:pdf',\n",
       " 'Augustana University undergraduate catalog filetype:pdf',\n",
       " 'Aurora University undergraduate catalog filetype:pdf',\n",
       " 'Austin College undergraduate catalog filetype:pdf',\n",
       " 'Austin Peay State University undergraduate catalog filetype:pdf',\n",
       " 'Ave Maria University undergraduate catalog filetype:pdf',\n",
       " 'Averett University undergraduate catalog filetype:pdf',\n",
       " 'Avila University undergraduate catalog filetype:pdf',\n",
       " 'Azusa Pacific University undergraduate catalog filetype:pdf',\n",
       " 'Babson College undergraduate catalog filetype:pdf',\n",
       " 'Bacone College undergraduate catalog filetype:pdf',\n",
       " 'Baker College undergraduate catalog filetype:pdf',\n",
       " 'Baker University undergraduate catalog filetype:pdf',\n",
       " 'Baldwin Wallace University undergraduate catalog filetype:pdf',\n",
       " 'Ball State University undergraduate catalog filetype:pdf',\n",
       " 'Bank Street College of Education undergraduate catalog filetype:pdf',\n",
       " 'Baptist Bible College undergraduate catalog filetype:pdf',\n",
       " 'Baptist Memorial College of Health Sciences undergraduate catalog filetype:pdf',\n",
       " 'Baptist University of the Americas undergraduate catalog filetype:pdf',\n",
       " 'Barclay College undergraduate catalog filetype:pdf',\n",
       " 'Bard College undergraduate catalog filetype:pdf',\n",
       " \"Bard College at Simon's Rock undergraduate catalog filetype:pdf\",\n",
       " 'Barnard College undergraduate catalog filetype:pdf',\n",
       " 'Barry University undergraduate catalog filetype:pdf',\n",
       " 'Barton College undergraduate catalog filetype:pdf']"
      ]
     },
     "execution_count": 6,
     "metadata": {},
     "output_type": "execute_result"
    }
   ],
   "source": [
    "search_string_list[:100]"
   ]
  },
  {
   "cell_type": "code",
   "execution_count": 7,
   "metadata": {},
   "outputs": [],
   "source": [
    "options = webdriver.ChromeOptions()\n",
    "options.add_experimental_option('prefs', {\n",
    "\"download.default_directory\": r\"C:\\Users\\Nikita\\Documents\\NLP\\Catalog\\PDFs\", #Change default directory for downloads\n",
    "\"download.prompt_for_download\": False, #To auto download the file\n",
    "\"download.directory_upgrade\": True,\n",
    "\"plugins.always_open_pdf_externally\": True #It will not show PDF directly in chrome\n",
    "})\n",
    "browser = webdriver.Chrome(options=options)"
   ]
  },
  {
   "cell_type": "code",
   "execution_count": 8,
   "metadata": {},
   "outputs": [
    {
     "name": "stderr",
     "output_type": "stream",
     "text": [
      "100%|██████████| 730/730 [43:11<00:00,  3.55s/it]  \n"
     ]
    }
   ],
   "source": [
    "for search in tqdm(search_string_list[1040:]):\n",
    "    for i in range(1):\n",
    "        matched_elements = browser.get(\"https://www.google.com/search?q=\" +\n",
    "                                         search + \"&start=\" + str(i))\n",
    "    browser.find_element_by_tag_name(\"cite\").click()\n",
    "    time.sleep(2)"
   ]
  },
  {
   "cell_type": "code",
   "execution_count": null,
   "metadata": {},
   "outputs": [],
   "source": []
  }
 ],
 "metadata": {
  "kernelspec": {
   "display_name": "Python 3",
   "language": "python",
   "name": "python3"
  },
  "language_info": {
   "codemirror_mode": {
    "name": "ipython",
    "version": 3
   },
   "file_extension": ".py",
   "mimetype": "text/x-python",
   "name": "python",
   "nbconvert_exporter": "python",
   "pygments_lexer": "ipython3",
   "version": "3.8.5"
  }
 },
 "nbformat": 4,
 "nbformat_minor": 4
}
